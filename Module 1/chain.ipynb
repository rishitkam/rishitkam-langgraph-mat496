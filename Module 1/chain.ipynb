{
 "cells": [
  {
   "cell_type": "markdown",
   "id": "4cbf2458",
   "metadata": {},
   "source": [
    "[![Open in Colab](https://colab.research.google.com/assets/colab-badge.svg)](https://colab.research.google.com/github/langchain-ai/langchain-academy/blob/main/module-1/chain.ipynb) [![Open in LangChain Academy](https://cdn.prod.website-files.com/65b8cd72835ceeacd4449a53/66e9eba12c7b7688aa3dbb5e_LCA-badge-green.svg)](https://academy.langchain.com/courses/take/intro-to-langgraph/lessons/58238466-lesson-4-chain)"
   ]
  },
  {
   "attachments": {},
   "cell_type": "markdown",
   "id": "ee55d3da-c53a-4c76-b46f-8e0d602e072e",
   "metadata": {},
   "source": [
    "# Chain\n",
    "\n",
    "## Review\n",
    "\n",
    "We built a simple graph with nodes, normal edges, and conditional edges.\n",
    "\n",
    "## Goals\n",
    "\n",
    "Now, let's build up to a simple chain that combines 4 [concepts](https://python.langchain.com/v0.2/docs/concepts/):\n",
    "\n",
    "* Using [chat messages](https://python.langchain.com/v0.2/docs/concepts/#messages) as our graph state\n",
    "* Using [chat models](https://python.langchain.com/v0.2/docs/concepts/#chat-models) in graph nodes\n",
    "* [Binding tools](https://python.langchain.com/v0.2/docs/concepts/#tools) to our chat model\n",
    "* [Executing tool calls](https://python.langchain.com/v0.2/docs/concepts/#functiontool-calling) in graph nodes \n",
    "\n",
    "![Screenshot 2024-08-21 at 9.24.03 AM.png](https://cdn.prod.website-files.com/65b8cd72835ceeacd4449a53/66dbab08dd607b08df5e1101_chain1.png)"
   ]
  },
  {
   "cell_type": "code",
   "execution_count": 41,
   "id": "a55e2e80-a718-4aaf-99b9-371157b34a4b",
   "metadata": {},
   "outputs": [],
   "source": [
    "%%capture --no-stderr\n",
    "%pip install --quiet -U langchain_openai langchain_core langgraph"
   ]
  },
  {
   "cell_type": "markdown",
   "id": "c465ef56",
   "metadata": {},
   "source": [
    "## Added my own messages"
   ]
  },
  {
   "cell_type": "code",
   "execution_count": 42,
   "id": "c7990dd6",
   "metadata": {},
   "outputs": [
    {
     "name": "stdout",
     "output_type": "stream",
     "text": [
      "==================================\u001b[1m Ai Message \u001b[0m==================================\n",
      "Name: ai\n",
      "\n",
      "Hey so what are you upto today\n",
      "================================\u001b[1m Human Message \u001b[0m=================================\n",
      "Name: rishit\n",
      "\n",
      "nothing much js studying this langchain course bro\n",
      "==================================\u001b[1m Ai Message \u001b[0m==================================\n",
      "Name: ai\n",
      "\n",
      "Great, what would you like to learn about.\n",
      "================================\u001b[1m Human Message \u001b[0m=================================\n",
      "Name: rishit\n",
      "\n",
      "I want to know what is langchain about basically\n"
     ]
    }
   ],
   "source": [
    "from pprint import pprint\n",
    "from langchain_core.messages import AIMessage, HumanMessage\n",
    "\n",
    "messages = [AIMessage(content=f\"Hey so what are you upto today\", name=\"ai\")]\n",
    "messages.append(HumanMessage(content=f\"nothing much js studying this langchain course bro\",name=\"rishit\"))\n",
    "messages.append(AIMessage(content=f\"Great, what would you like to learn about.\", name=\"ai\"))\n",
    "messages.append(HumanMessage(content=f\"I want to know what is langchain about basically\", name=\"rishit\"))\n",
    "\n",
    "for m in messages:\n",
    "    m.pretty_print()"
   ]
  },
  {
   "cell_type": "code",
   "execution_count": 43,
   "id": "2652d5ec-7602-4220-bc6e-b90783ab287b",
   "metadata": {},
   "outputs": [],
   "source": [
    "import os, getpass\n",
    "\n",
    "def _set_env(var: str):\n",
    "    if not os.environ.get(var):\n",
    "        os.environ[var] = getpass.getpass(f\"{var}: \")\n",
    "\n",
    "_set_env(\"OPENAI_API_KEY\")"
   ]
  },
  {
   "cell_type": "markdown",
   "id": "551a4c9b",
   "metadata": {},
   "source": [
    "## Passed my messaged to the LLM"
   ]
  },
  {
   "cell_type": "code",
   "execution_count": null,
   "id": "95b99ad4-5753-49d3-a916-a9e949722c01",
   "metadata": {},
   "outputs": [],
   "source": [
    "from langchain_openai import ChatOpenAI\n",
    "llm = ChatOpenAI(model=\"gpt-4o\")\n",
    "result = llm.invoke(messages)\n",
    "type(result)"
   ]
  },
  {
   "cell_type": "code",
   "execution_count": null,
   "id": "88d60338-c892-4d04-a83f-878de4a76a6a",
   "metadata": {},
   "outputs": [
    {
     "name": "stdout",
     "output_type": "stream",
     "text": [
      "==================================\u001b[1m Ai Message \u001b[0m==================================\n",
      "\n",
      "LangChain is a framework specifically designed for developing applications that use large language models (LLMs) effectively. It provides the necessary tools and infrastructure to build applications that leverage the power of LLMs for a wide range of use cases.\n",
      "\n",
      "Key features of LangChain include:\n",
      "\n",
      "1. **Prompt Management**: LangChain offers tools to create, manage, and optimize the prompts that are used to interact with language models. This is crucial for getting the best results out of LLMs, as the quality of input prompts can significantly affect the outputs.\n",
      "\n",
      "2. **Chain Management**: The framework allows you to create chains, which are sequences of calls to language models or other utilities. This can help in building more complex applications that require multiple steps of processing or interaction with the model.\n",
      "\n",
      "3. **Integration with Data**: LangChain facilitates the integration of language models with external data sources, enabling applications to draw on specific information sources in conjunction with LLM processing.\n",
      "\n",
      "4. **Memory**: LangChain includes utilities for memory management, allowing applications to store and recall information across interactions. This can be particularly useful for developing more interactive and context-aware applications.\n",
      "\n",
      "5. **Evaluation Tools**: The framework provides tools for evaluating and testing the outputs of language models, which helps in refining prompts and improving application performance.\n",
      "\n",
      "6. **Support for Different LLMs**: LangChain is designed to work with a variety of LLMs, making it flexible and adaptable to different models in the rapidly evolving landscape of AI and machine learning.\n",
      "\n",
      "Overall, LangChain is aimed at simplifying the process of building sophisticated applications that harness the capabilities of LLMs, making it easier for developers to create tools that require natural language understanding and generation.\n"
     ]
    }
   ],
   "source": [
    "result.pretty_print()"
   ]
  },
  {
   "cell_type": "code",
   "execution_count": null,
   "id": "c3a29654-6b8e-4eda-9cec-22fabb9b8620",
   "metadata": {},
   "outputs": [
    {
     "data": {
      "text/plain": [
       "{'token_usage': {'completion_tokens': 344,\n",
       "  'prompt_tokens': 66,\n",
       "  'total_tokens': 410,\n",
       "  'completion_tokens_details': {'accepted_prediction_tokens': 0,\n",
       "   'audio_tokens': 0,\n",
       "   'reasoning_tokens': 0,\n",
       "   'rejected_prediction_tokens': 0},\n",
       "  'prompt_tokens_details': {'audio_tokens': 0, 'cached_tokens': 0}},\n",
       " 'model_name': 'gpt-4o-2024-08-06',\n",
       " 'system_fingerprint': 'fp_cbf1785567',\n",
       " 'id': 'chatcmpl-CRIzY0GSQxmRwTGm7ruBkRX789spq',\n",
       " 'service_tier': 'default',\n",
       " 'finish_reason': 'stop',\n",
       " 'logprobs': None}"
      ]
     },
     "execution_count": 27,
     "metadata": {},
     "output_type": "execute_result"
    }
   ],
   "source": [
    "result.response_metadata"
   ]
  },
  {
   "cell_type": "markdown",
   "id": "71da0789",
   "metadata": {},
   "source": [
    "## Added my own set of tools like, addition, subtraction, factorial, division etc and binded them with my llm"
   ]
  },
  {
   "cell_type": "code",
   "execution_count": null,
   "id": "928faf56-1a1a-4c5f-b97d-bd64d8e166d1",
   "metadata": {},
   "outputs": [],
   "source": [
    "\n",
    "def add(a: int, b: int) -> int:\n",
    "    \"\"\"Adds two numbers together.\"\"\"\n",
    "    return a + b\n",
    "\n",
    "\n",
    "def subtract(a: int, b: int) -> int:\n",
    "    \"\"\"Subtracts the second number from the first.\"\"\"\n",
    "    return a - b\n",
    "\n",
    "\n",
    "def multiply(a: int, b: int) -> int:\n",
    "    \"\"\"Multiplies two numbers together.\"\"\"\n",
    "    return a * b\n",
    "\n",
    "\n",
    "def divide(a: float, b: float) -> float:\n",
    "    \"\"\"Divides the first number by the second. Returns an error if division by zero.\"\"\"\n",
    "    if b == 0:\n",
    "        return \"Error: Cannot divide by zero.\"\n",
    "    return a / b\n",
    "\n",
    "\n",
    "def factorial(n: int) -> int:\n",
    "    \"\"\"Calculates the factorial of a non-negative integer.\"\"\"\n",
    "    if n < 0:\n",
    "        return \"Error: Factorial is not defined for negative numbers.\"\n",
    "    return math.factorial(n)\n",
    "\n",
    "llm_with_tools = llm.bind_tools([add, subtract, multiply, divide, factorial])"
   ]
  },
  {
   "cell_type": "markdown",
   "id": "aabe7c08",
   "metadata": {},
   "source": [
    "## Called my tools and printed the tool call using pretty_print()"
   ]
  },
  {
   "cell_type": "code",
   "execution_count": null,
   "id": "9edbe13e-cc72-4685-ac97-2ebb4ceb2544",
   "metadata": {},
   "outputs": [
    {
     "name": "stdout",
     "output_type": "stream",
     "text": [
      "==================================\u001b[1m Ai Message \u001b[0m==================================\n",
      "Tool Calls:\n",
      "  factorial (call_iJsnu9MKe0g5zEA1sc0U92s5)\n",
      " Call ID: call_iJsnu9MKe0g5zEA1sc0U92s5\n",
      "  Args:\n",
      "    n: 7\n"
     ]
    }
   ],
   "source": [
    "tool_call = llm_with_tools.invoke([HumanMessage(content=f\"What is 7 factorial\", name=\"rishit\")])\n",
    "tool_call.pretty_print()"
   ]
  },
  {
   "cell_type": "code",
   "execution_count": null,
   "id": "665ec078",
   "metadata": {},
   "outputs": [
    {
     "name": "stdout",
     "output_type": "stream",
     "text": [
      "==================================\u001b[1m Ai Message \u001b[0m==================================\n",
      "Tool Calls:\n",
      "  add (call_Lu8yLnkP1wl1mYbuR7poPZrE)\n",
      " Call ID: call_Lu8yLnkP1wl1mYbuR7poPZrE\n",
      "  Args:\n",
      "    a: 5\n",
      "    b: 5\n"
     ]
    }
   ],
   "source": [
    "tool_call = llm_with_tools.invoke([HumanMessage(content=f\"What is 5 added to 5\", name=\"rishit\")])\n",
    "tool_call.pretty_print()"
   ]
  },
  {
   "cell_type": "code",
   "execution_count": null,
   "id": "ee73402a",
   "metadata": {},
   "outputs": [
    {
     "name": "stdout",
     "output_type": "stream",
     "text": [
      "==================================\u001b[1m Ai Message \u001b[0m==================================\n",
      "Tool Calls:\n",
      "  subtract (call_sQnP4FWGkg9qOD3r0SLuUa2F)\n",
      " Call ID: call_sQnP4FWGkg9qOD3r0SLuUa2F\n",
      "  Args:\n",
      "    a: 32\n",
      "    b: 7\n"
     ]
    }
   ],
   "source": [
    "tool_call = llm_with_tools.invoke([HumanMessage(content=f\"What is 32 minus 7\", name=\"rishit\")])\n",
    "tool_call.pretty_print()"
   ]
  },
  {
   "cell_type": "code",
   "execution_count": null,
   "id": "957ba66b",
   "metadata": {},
   "outputs": [
    {
     "name": "stdout",
     "output_type": "stream",
     "text": [
      "==================================\u001b[1m Ai Message \u001b[0m==================================\n",
      "Tool Calls:\n",
      "  divide (call_42UP6dr4uZeNfqkYwqftGKck)\n",
      " Call ID: call_42UP6dr4uZeNfqkYwqftGKck\n",
      "  Args:\n",
      "    a: 60\n",
      "    b: 5\n"
     ]
    }
   ],
   "source": [
    "tool_call = llm_with_tools.invoke([HumanMessage(content=f\"What is 60 divided by 5\", name=\"rishit\")])\n",
    "tool_call.pretty_print()"
   ]
  },
  {
   "cell_type": "code",
   "execution_count": null,
   "id": "3699dd5c-398c-43c7-b496-fd87e55e11ca",
   "metadata": {},
   "outputs": [],
   "source": [
    "from typing_extensions import TypedDict\n",
    "from langchain_core.messages import AnyMessage\n",
    "\n",
    "class MessagesState(TypedDict):\n",
    "    messages: list[AnyMessage]"
   ]
  },
  {
   "cell_type": "code",
   "execution_count": null,
   "id": "6b33eb72-3197-4870-b9a3-0da8056c40c5",
   "metadata": {},
   "outputs": [],
   "source": [
    "from typing import Annotated\n",
    "from langgraph.graph.message import add_messages\n",
    "\n",
    "class MessagesState(TypedDict):\n",
    "    messages: Annotated[list[AnyMessage], add_messages]"
   ]
  },
  {
   "cell_type": "code",
   "execution_count": null,
   "id": "9ab516ee-eab1-4856-8210-99f1fe499672",
   "metadata": {},
   "outputs": [],
   "source": [
    "from langgraph.graph import MessagesState\n",
    "\n",
    "class MessagesState(MessagesState):\n",
    "    # Add any keys needed beyond messages, which is pre-built \n",
    "    pass"
   ]
  },
  {
   "cell_type": "markdown",
   "id": "04eec8b8",
   "metadata": {},
   "source": [
    "## Here I have taken a custom example to show how the built-in reducer function appends the messages list and preserves the previous messages instead of just overwriting it "
   ]
  },
  {
   "cell_type": "code",
   "execution_count": null,
   "id": "23ffea76-16a5-4053-a1bc-91e0101d91dc",
   "metadata": {},
   "outputs": [
    {
     "data": {
      "text/plain": [
       "[AIMessage(content='Hello! How can I assist you?', additional_kwargs={}, response_metadata={}, name='Model', id='ca6184f7-fe99-4678-8663-34dde8c8dd43'),\n",
       " HumanMessage(content='Can you give me more details about the ozone layer of the Earth.', additional_kwargs={}, response_metadata={}, name='Lance', id='23061cb3-a1f1-4f98-9555-1c6d948ea504'),\n",
       " AIMessage(content='Sure!, Do you want to know about it specifically or want information on how it is being affected by the climate change?', additional_kwargs={}, response_metadata={}, name='Model', id='e9d65bba-b688-4f21-b41a-aee9f93fceb2')]"
      ]
     },
     "execution_count": 36,
     "metadata": {},
     "output_type": "execute_result"
    }
   ],
   "source": [
    "# Initial state\n",
    "initial_messages = [AIMessage(content=\"Hello! How can I assist you?\", name=\"Model\"),\n",
    "                    HumanMessage(content=\"Can you give me more details about the ozone layer of the Earth.\", name=\"Lance\")\n",
    "                   ]\n",
    "\n",
    "# New message to add\n",
    "new_message = AIMessage(content=\"Sure!, Do you want to know about it specifically or want information on how it is being affected by the climate change?\", name=\"Model\")\n",
    "\n",
    "# Test\n",
    "add_messages(initial_messages , new_message)"
   ]
  },
  {
   "cell_type": "markdown",
   "id": "8582ca0d",
   "metadata": {},
   "source": [
    "## Created my own graph example:"
   ]
  },
  {
   "cell_type": "code",
   "execution_count": null,
   "id": "b5306639-7e6a-44be-8471-8d2631701cfb",
   "metadata": {},
   "outputs": [
    {
     "data": {
      "image/png": "[encoded data removed]",
      "text/plain": [
       "<IPython.core.display.Image object>"
      ]
     },
     "metadata": {},
     "output_type": "display_data"
    }
   ],
   "source": [
    "from IPython.display import Image, display\n",
    "from langgraph.graph import StateGraph, START, END\n",
    "    \n",
    "# Node\n",
    "def tool_calling_llm(state: MessagesState):\n",
    "    return {\"messages\": [llm_with_tools.invoke(state[\"messages\"])]}\n",
    "\n",
    "# Build graph\n",
    "builder = StateGraph(MessagesState)\n",
    "builder.add_node(\"tool_calling_llm\", tool_calling_llm)\n",
    "builder.add_edge(START, \"tool_calling_llm\")\n",
    "builder.add_edge(\"tool_calling_llm\", END)\n",
    "graph = builder.compile()\n",
    "\n",
    "# View\n",
    "display(Image(graph.get_graph().draw_mermaid_png()))"
   ]
  },
  {
   "cell_type": "markdown",
   "id": "eed0de0d",
   "metadata": {},
   "source": [
    "## If we write somehting like \"yo wassup broski\" which doesnt invoke a tool the llm wont use any tools and just reply on the basis of the data on which it has been trained"
   ]
  },
  {
   "cell_type": "code",
   "execution_count": null,
   "id": "983e2487-c0a5-40a2-afbc-aa53ff49fefc",
   "metadata": {},
   "outputs": [
    {
     "name": "stdout",
     "output_type": "stream",
     "text": [
      "================================\u001b[1m Human Message \u001b[0m=================================\n",
      "\n",
      "Yo wassup broski\n",
      "==================================\u001b[1m Ai Message \u001b[0m==================================\n",
      "\n",
      "Hey! Not much, just here to help you out. What's up with you? Anything you need assistance with?\n"
     ]
    }
   ],
   "source": [
    "messages = graph.invoke({\"messages\": HumanMessage(content=\"Yo wassup broski\")})\n",
    "for m in messages['messages']:\n",
    "    m.pretty_print()"
   ]
  },
  {
   "cell_type": "markdown",
   "id": "3588688b-efd9-4dbc-abf2-7903e3ef89ba",
   "metadata": {},
   "source": [
    "## The LLM chooses to use a tool when it determines that the input or task requires the functionality provided by that tool."
   ]
  },
  {
   "cell_type": "markdown",
   "id": "bd9f7b1c",
   "metadata": {},
   "source": [
    "## Here i have called the factorial tool, which I added, by giving the llm a 10 factorial command"
   ]
  },
  {
   "cell_type": "code",
   "execution_count": null,
   "id": "7fe8b042-ecc8-426f-995e-cc1bbaf7cacc",
   "metadata": {},
   "outputs": [
    {
     "name": "stdout",
     "output_type": "stream",
     "text": [
      "================================\u001b[1m Human Message \u001b[0m=================================\n",
      "\n",
      "10 Factorial\n",
      "==================================\u001b[1m Ai Message \u001b[0m==================================\n",
      "Tool Calls:\n",
      "  factorial (call_VYnbSGuHsWggBLLNgw7eAXuS)\n",
      " Call ID: call_VYnbSGuHsWggBLLNgw7eAXuS\n",
      "  Args:\n",
      "    n: 10\n"
     ]
    }
   ],
   "source": [
    "\n",
    "messages = graph.invoke({\"messages\": HumanMessage(content=\"10 Factorial\")})\n",
    "for m in messages['messages']:\n",
    "    m.pretty_print()"
   ]
  },
  {
   "cell_type": "markdown",
   "id": "8a6fbefd",
   "metadata": {},
   "source": [
    "## Similarly I have called my self defined addition tool here"
   ]
  },
  {
   "cell_type": "code",
   "execution_count": null,
   "id": "311fbae3",
   "metadata": {},
   "outputs": [
    {
     "name": "stdout",
     "output_type": "stream",
     "text": [
      "================================\u001b[1m Human Message \u001b[0m=================================\n",
      "\n",
      "Add 2 and 3\n",
      "==================================\u001b[1m Ai Message \u001b[0m==================================\n",
      "Tool Calls:\n",
      "  add (call_sVUItNZSrXB7O1mwJsHW1mTa)\n",
      " Call ID: call_sVUItNZSrXB7O1mwJsHW1mTa\n",
      "  Args:\n",
      "    a: 2\n",
      "    b: 3\n"
     ]
    }
   ],
   "source": [
    "messages = graph.invoke({\"messages\": HumanMessage(content=\"Add 8 and 3\")})\n",
    "for m in messages['messages']:\n",
    "    m.pretty_print()"
   ]
  }
 ],
 "metadata": {
  "kernelspec": {
   "display_name": ".venv",
   "language": "python",
   "name": "python3"
  },
  "language_info": {
   "codemirror_mode": {
    "name": "ipython",
    "version": 3
   },
   "file_extension": ".py",
   "mimetype": "text/x-python",
   "name": "python",
   "nbconvert_exporter": "python",
   "pygments_lexer": "ipython3",
   "version": "3.12.10"
  }
 },
 "nbformat": 4,
 "nbformat_minor": 5
}
