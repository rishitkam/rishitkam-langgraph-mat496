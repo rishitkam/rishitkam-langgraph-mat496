{
 "cells": [
  {
   "cell_type": "markdown",
   "id": "c67e4533",
   "metadata": {},
   "source": [
    "# Made my own simple graph which tells if a number is odd or even"
   ]
  },
  {
   "cell_type": "code",
   "execution_count": 1,
   "id": "044938e8",
   "metadata": {},
   "outputs": [],
   "source": [
    "%%capture --no-stderr\n",
    "%pip install -U langgraph\n"
   ]
  },
  {
   "cell_type": "code",
   "execution_count": 2,
   "id": "be782544",
   "metadata": {},
   "outputs": [],
   "source": [
    "from typing_extensions import TypedDict\n",
    "\n",
    "class State(TypedDict):\n",
    "    number: int\n",
    "    result: str\n"
   ]
  },
  {
   "cell_type": "code",
   "execution_count": 3,
   "id": "d8cbe51c",
   "metadata": {},
   "outputs": [],
   "source": [
    "def node_1(state):\n",
    "    print(\"---Node 1---\")\n",
    "    return {\"number\": state[\"number\"], \"result\": \"Checking number...\"}\n",
    "\n",
    "def node_even(state):\n",
    "    print(\"---Even Node---\")\n",
    "    return {\"number\": state[\"number\"], \"result\": f\"{state['number']} is even\"}\n",
    "\n",
    "def node_odd(state):\n",
    "    print(\"---Odd Node---\")\n",
    "    return {\"number\": state[\"number\"], \"result\": f\"{state['number']} is odd\"}\n"
   ]
  },
  {
   "cell_type": "code",
   "execution_count": 4,
   "id": "905fad72",
   "metadata": {},
   "outputs": [],
   "source": [
    "from typing import Literal\n",
    "\n",
    "def decide_parity(state) -> Literal[\"node_even\", \"node_odd\"]:\n",
    "    num = state[\"number\"]\n",
    "    \n",
    "    # Simple parity check\n",
    "    if num % 2 == 0:\n",
    "        return \"node_even\"\n",
    "    return \"node_odd\"\n"
   ]
  },
  {
   "cell_type": "code",
   "execution_count": 5,
   "id": "967b2b71",
   "metadata": {},
   "outputs": [
    {
     "data": {
      "image/png": "[encoded data removed]",
      "text/plain": [
       "<IPython.core.display.Image object>"
      ]
     },
     "metadata": {},
     "output_type": "display_data"
    }
   ],
   "source": [
    "from IPython.display import Image, display\n",
    "from langgraph.graph import StateGraph, START, END\n",
    "\n",
    "# Build the graph\n",
    "builder = StateGraph(State)\n",
    "builder.add_node(\"node_1\", node_1)\n",
    "builder.add_node(\"node_even\", node_even)\n",
    "builder.add_node(\"node_odd\", node_odd)\n",
    "\n",
    "# Logic connections\n",
    "builder.add_edge(START, \"node_1\")\n",
    "builder.add_conditional_edges(\"node_1\", decide_parity)\n",
    "builder.add_edge(\"node_even\", END)\n",
    "builder.add_edge(\"node_odd\", END)\n",
    "\n",
    "# Compile the graph\n",
    "graph = builder.compile()\n",
    "\n",
    "# Visualize\n",
    "display(Image(graph.get_graph().draw_mermaid_png()))\n"
   ]
  },
  {
   "cell_type": "code",
   "execution_count": 6,
   "id": "265d5526",
   "metadata": {},
   "outputs": [
    {
     "name": "stdout",
     "output_type": "stream",
     "text": [
      "---Node 1---\n",
      "---Odd Node---\n"
     ]
    },
    {
     "data": {
      "text/plain": [
       "{'number': 7, 'result': '7 is odd'}"
      ]
     },
     "execution_count": 6,
     "metadata": {},
     "output_type": "execute_result"
    }
   ],
   "source": [
    "graph.invoke({\"number\": 7, \"result\": \"\"})\n"
   ]
  },
  {
   "cell_type": "code",
   "execution_count": 7,
   "id": "7c02ae37",
   "metadata": {},
   "outputs": [
    {
     "name": "stdout",
     "output_type": "stream",
     "text": [
      "---Node 1---\n",
      "---Even Node---\n"
     ]
    },
    {
     "data": {
      "text/plain": [
       "{'number': 4, 'result': '4 is even'}"
      ]
     },
     "execution_count": 7,
     "metadata": {},
     "output_type": "execute_result"
    }
   ],
   "source": [
    "graph.invoke({\"number\": 4, \"result\": \"\"})\n"
   ]
  }
 ],
 "metadata": {
  "kernelspec": {
   "display_name": ".venv",
   "language": "python",
   "name": "python3"
  },
  "language_info": {
   "codemirror_mode": {
    "name": "ipython",
    "version": 3
   },
   "file_extension": ".py",
   "mimetype": "text/x-python",
   "name": "python",
   "nbconvert_exporter": "python",
   "pygments_lexer": "ipython3",
   "version": "3.12.10"
  }
 },
 "nbformat": 4,
 "nbformat_minor": 5
}
