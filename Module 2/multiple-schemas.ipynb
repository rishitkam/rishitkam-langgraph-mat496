{
 "cells": [
  {
   "cell_type": "code",
   "execution_count": 1,
   "id": "4d727cc2-5a43-4eb5-9d69-82bbbcc35bd9",
   "metadata": {},
   "outputs": [],
   "source": [
    "%%capture --no-stderr\n",
    "%pip install --quiet -U langgraph\n",
    "from IPython.display import Image, display"
   ]
  },
  {
   "cell_type": "markdown",
   "id": "21eae4ec",
   "metadata": {},
   "source": [
    "# MY EXAMPLES : "
   ]
  },
  {
   "cell_type": "markdown",
   "id": "ca76c87f",
   "metadata": {},
   "source": [
    "## Made a graph using private state, which does some basic arithmetic operations"
   ]
  },
  {
   "cell_type": "code",
   "execution_count": 2,
   "id": "fdd2d5d1",
   "metadata": {},
   "outputs": [],
   "source": [
    "# Cell 1: Imports and State Definitions\n",
    "from typing_extensions import TypedDict\n",
    "from langgraph.graph import StateGraph, START, END\n",
    "\n",
    "# Public/overall state (what user sees at entry/output)\n",
    "class OverallState(TypedDict):\n",
    "    total: int\n",
    "\n",
    "# Private state (used only between nodes)\n",
    "class PrivateState(TypedDict):\n",
    "    temp: int"
   ]
  },
  {
   "cell_type": "code",
   "execution_count": 3,
   "id": "2216e88e",
   "metadata": {},
   "outputs": [],
   "source": [
    "# Cell 2: Node Definitions\n",
    "# First node reads from overall state, passes work via private state\n",
    "def node_1(state: OverallState) -> PrivateState:\n",
    "    # increment total and keep it private as 'temp'\n",
    "    return {\"temp\": state[\"total\"] + 1}\n",
    "\n",
    "# Second node accepts private state and emits new overall state\n",
    "def node_2(state: PrivateState) -> OverallState:\n",
    "    return {\"total\": state[\"temp\"] * 2}"
   ]
  },
  {
   "cell_type": "code",
   "execution_count": 4,
   "id": "7eaf28f6",
   "metadata": {},
   "outputs": [
    {
     "name": "stdout",
     "output_type": "stream",
     "text": [
      "Final output: {'total': 12}\n"
     ]
    }
   ],
   "source": [
    "# Cell 3: Build and run the graph\n",
    "builder = StateGraph(OverallState)\n",
    "builder.add_node(\"node_1\", node_1)\n",
    "builder.add_node(\"node_2\", node_2)\n",
    "\n",
    "builder.add_edge(START, \"node_1\")\n",
    "builder.add_edge(\"node_1\", \"node_2\")\n",
    "builder.add_edge(\"node_2\", END)\n",
    "\n",
    "graph = builder.compile()\n",
    "\n",
    "# Run the graph with starting total=5\n",
    "result = graph.invoke({\"total\": 5})\n",
    "print(\"Final output:\", result)\n"
   ]
  },
  {
   "cell_type": "code",
   "execution_count": 5,
   "id": "c5b8a4e1",
   "metadata": {},
   "outputs": [
    {
     "data": {
      "image/png": "[encoded data removed]",
      "text/plain": [
       "<IPython.core.display.Image object>"
      ]
     },
     "metadata": {},
     "output_type": "display_data"
    }
   ],
   "source": [
    "# Cell 4: Visualize (Mermaid)\n",
    "mermaid_code = graph.get_graph().draw_mermaid()\n",
    "#print(mermaid_code)\n",
    "display(Image(graph.get_graph().draw_mermaid_png()))"
   ]
  },
  {
   "cell_type": "markdown",
   "id": "19194b09",
   "metadata": {},
   "source": [
    "## Made another graph using PrivateState which takes a string input and determines whether its a short sentence or long sentence "
   ]
  },
  {
   "cell_type": "code",
   "execution_count": 6,
   "id": "8e158fb7",
   "metadata": {},
   "outputs": [],
   "source": [
    " # Cell 1: Imports and State Definitions\n",
    "from typing_extensions import TypedDict\n",
    "from langgraph.graph import StateGraph, START, END\n",
    "\n",
    "# Overall state (input/output)\n",
    "class OverallState(TypedDict):\n",
    "    sentence: str\n",
    "    label: str\n",
    "\n",
    "# Private state (intermediate only)\n",
    "class PrivateState(TypedDict):\n",
    "    word_count: int"
   ]
  },
  {
   "cell_type": "code",
   "execution_count": 7,
   "id": "eb1d969b",
   "metadata": {},
   "outputs": [],
   "source": [
    "# Cell 2: Node Definitions\n",
    "\n",
    "# Node 1: Counts words, stores count privately\n",
    "def count_words(state: OverallState) -> PrivateState:\n",
    "    n = len(state['sentence'].split())\n",
    "    return {'word_count': n}\n",
    "\n",
    "# Node 2: Labels as \"short\" or \"long\" based on private word count\n",
    "def label_sentence(state: PrivateState) -> OverallState:\n",
    "    label = \"short\" if state['word_count'] <= 5 else \"long\"\n",
    "    # restoring original sentence plus new label\n",
    "    return {'sentence': '', 'label': label}"
   ]
  },
  {
   "cell_type": "code",
   "execution_count": 8,
   "id": "ece5651b",
   "metadata": {},
   "outputs": [],
   "source": [
    "# Cell 3: Build and run the graph\n",
    "builder = StateGraph(OverallState)\n",
    "builder.add_node(\"count_words\", count_words)\n",
    "builder.add_node(\"label_sentence\", label_sentence)\n",
    "\n",
    "builder.add_edge(START, \"count_words\")\n",
    "builder.add_edge(\"count_words\", \"label_sentence\")\n",
    "builder.add_edge(\"label_sentence\", END)\n",
    "\n",
    "graph = builder.compile()"
   ]
  },
  {
   "cell_type": "markdown",
   "id": "33f3dcdf",
   "metadata": {},
   "source": [
    "### Tried with a short sentence example"
   ]
  },
  {
   "cell_type": "code",
   "execution_count": 9,
   "id": "fc4a8b96",
   "metadata": {},
   "outputs": [
    {
     "name": "stdout",
     "output_type": "stream",
     "text": [
      "Short sentence output: {'sentence': '', 'label': 'short'}\n"
     ]
    }
   ],
   "source": [
    "# Example: Run on a short sentence\n",
    "result = graph.invoke({'sentence': 'Hello world!', 'label': ''})\n",
    "print(\"Short sentence output:\", result)\n",
    "\n"
   ]
  },
  {
   "cell_type": "markdown",
   "id": "a61738fd",
   "metadata": {},
   "source": [
    "### and a long sentence example"
   ]
  },
  {
   "cell_type": "code",
   "execution_count": 10,
   "id": "5b627f90",
   "metadata": {},
   "outputs": [
    {
     "name": "stdout",
     "output_type": "stream",
     "text": [
      "Long sentence output: {'sentence': '', 'label': 'long'}\n"
     ]
    }
   ],
   "source": [
    "# Example: Run on a long sentence\n",
    "result2 = graph.invoke({'sentence': 'Open source machine learning is transforming research rapidly.', 'label': ''})\n",
    "print(\"Long sentence output:\", result2)"
   ]
  },
  {
   "cell_type": "code",
   "execution_count": 11,
   "id": "7d5d0dcf",
   "metadata": {},
   "outputs": [
    {
     "data": {
      "image/png": "[encoded data removed]",
      "text/plain": [
       "<IPython.core.display.Image object>"
      ]
     },
     "metadata": {},
     "output_type": "display_data"
    }
   ],
   "source": [
    "# Cell : Visualize (Mermaid)\n",
    "mermaid_code = graph.get_graph().draw_mermaid()\n",
    "#print(mermaid_code)\n",
    "display(Image(graph.get_graph().draw_mermaid_png()))"
   ]
  },
  {
   "cell_type": "markdown",
   "id": "8717adba",
   "metadata": {},
   "source": [
    "## Created a graph using an input/output schema, it takes in two arithmetic valyues as input and gives the output after performing some arithmetic operations on it : "
   ]
  },
  {
   "cell_type": "code",
   "execution_count": 12,
   "id": "0d1e4f8f",
   "metadata": {},
   "outputs": [],
   "source": [
    "# Cell 1: Import and schema definitions\n",
    "from typing_extensions import TypedDict\n",
    "from langgraph.graph import StateGraph, START, END\n",
    "\n",
    "# Input schema\n",
    "class InputSchema(TypedDict):\n",
    "    num1: float\n",
    "    num2: float\n",
    "    op: str  # 'add', 'sub', 'mul', 'div'\n",
    "\n",
    "# Output schema\n",
    "class OutputSchema(TypedDict):\n",
    "    result: float\n",
    "    operation: str\n",
    "\n"
   ]
  },
  {
   "cell_type": "code",
   "execution_count": 13,
   "id": "a5bd26ce",
   "metadata": {},
   "outputs": [],
   "source": [
    "# Cell 2: Node definitions\n",
    "def calc_node(state: InputSchema) -> OutputSchema:\n",
    "    if state[\"op\"] == \"add\":\n",
    "        res = state[\"num1\"] + state[\"num2\"]\n",
    "        op_str = \"addition\"\n",
    "    elif state[\"op\"] == \"sub\":\n",
    "        res = state[\"num1\"] - state[\"num2\"]\n",
    "        op_str = \"subtraction\"\n",
    "    elif state[\"op\"] == \"mul\":\n",
    "        res = state[\"num1\"] * state[\"num2\"]\n",
    "        op_str = \"multiplication\"\n",
    "    elif state[\"op\"] == \"div\":\n",
    "        res = state[\"num1\"] / state[\"num2\"] if state[\"num2\"] != 0 else float(\"nan\")\n",
    "        op_str = \"division\"\n",
    "    else:\n",
    "        res = float('nan')\n",
    "        op_str = \"unknown\"\n",
    "    return {\"result\": res, \"operation\": op_str}\n",
    "\n"
   ]
  },
  {
   "cell_type": "code",
   "execution_count": 14,
   "id": "0899e6e7",
   "metadata": {},
   "outputs": [],
   "source": [
    "# Cell 3: Build the graph \n",
    "builder = StateGraph(\n",
    "    OutputSchema,\n",
    "    input_schema=InputSchema,\n",
    "    output_schema=OutputSchema\n",
    ")\n",
    "builder.add_node(\"calc\", calc_node)\n",
    "builder.add_edge(START, \"calc\")\n",
    "builder.add_edge(\"calc\", END)\n",
    "graph = builder.compile()"
   ]
  },
  {
   "cell_type": "code",
   "execution_count": 15,
   "id": "6ec08b21",
   "metadata": {},
   "outputs": [
    {
     "data": {
      "image/png": "[encoded data removed]",
      "text/plain": [
       "<IPython.core.display.Image object>"
      ]
     },
     "metadata": {},
     "output_type": "display_data"
    }
   ],
   "source": [
    "# Cell 4: Visualize (Mermaid)\n",
    "mermaid_code = graph.get_graph().draw_mermaid()\n",
    "#print(mermaid_code)\n",
    "display(Image(graph.get_graph().draw_mermaid_png()))"
   ]
  },
  {
   "cell_type": "markdown",
   "id": "1b35092b",
   "metadata": {},
   "source": [
    "### Tried it with different examples : "
   ]
  },
  {
   "cell_type": "markdown",
   "id": "6cd9950a",
   "metadata": {},
   "source": [
    "#### we can see that only the output schema is visible to us as the result"
   ]
  },
  {
   "cell_type": "code",
   "execution_count": 16,
   "id": "dc5e3737",
   "metadata": {},
   "outputs": [
    {
     "name": "stdout",
     "output_type": "stream",
     "text": [
      "Addition test: {'result': 8, 'operation': 'addition'}\n"
     ]
    }
   ],
   "source": [
    "# Example call 1\n",
    "print(\"Addition test:\", graph.invoke({\"num1\": 5, \"num2\": 3, \"op\": \"add\"}))\n"
   ]
  },
  {
   "cell_type": "code",
   "execution_count": 17,
   "id": "211e99ea",
   "metadata": {},
   "outputs": [
    {
     "name": "stdout",
     "output_type": "stream",
     "text": [
      "Multiplication test: {'result': 14, 'operation': 'multiplication'}\n"
     ]
    }
   ],
   "source": [
    "# Example call 2\n",
    "print(\"Multiplication test:\", graph.invoke({\"num1\": 7, \"num2\": 2, \"op\": \"mul\"}))"
   ]
  },
  {
   "cell_type": "code",
   "execution_count": 18,
   "id": "79c441d6",
   "metadata": {},
   "outputs": [
    {
     "name": "stdout",
     "output_type": "stream",
     "text": [
      "Division by zero test: {'result': nan, 'operation': 'division'}\n"
     ]
    }
   ],
   "source": [
    "# Example call 3\n",
    "print(\"Division by zero test:\", graph.invoke({\"num1\": 10, \"num2\": 0, \"op\": \"div\"}))"
   ]
  }
 ],
 "metadata": {
  "kernelspec": {
   "display_name": ".venv",
   "language": "python",
   "name": "python3"
  },
  "language_info": {
   "codemirror_mode": {
    "name": "ipython",
    "version": 3
   },
   "file_extension": ".py",
   "mimetype": "text/x-python",
   "name": "python",
   "nbconvert_exporter": "python",
   "pygments_lexer": "ipython3",
   "version": "3.13.2"
  }
 },
 "nbformat": 4,
 "nbformat_minor": 5
}
