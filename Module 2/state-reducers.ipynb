{
 "cells": [
  {
   "cell_type": "markdown",
   "id": "36b496da",
   "metadata": {},
   "source": [
    "[![Open in Colab](https://colab.research.google.com/assets/colab-badge.svg)](https://colab.research.google.com/github/langchain-ai/langchain-academy/blob/main/module-2/state-reducers.ipynb) [![Open in LangChain Academy](https://cdn.prod.website-files.com/65b8cd72835ceeacd4449a53/66e9eba12c7b7688aa3dbb5e_LCA-badge-green.svg)](https://academy.langchain.com/courses/take/intro-to-langgraph/lessons/58239428-lesson-2-state-reducers)"
   ]
  },
  {
   "cell_type": "code",
   "execution_count": 1,
   "id": "398c5e8e-641f-4be6-b1e8-7531f86bd2e9",
   "metadata": {},
   "outputs": [],
   "source": [
    "%%capture --no-stderr\n",
    "%pip install --quiet -U langchain_core langgraph\n",
    "from IPython.display import Image, display"
   ]
  },
  {
   "cell_type": "markdown",
   "id": "376de758",
   "metadata": {},
   "source": [
    "# MY EXAMPLES "
   ]
  },
  {
   "cell_type": "markdown",
   "id": "16ed23cd",
   "metadata": {},
   "source": [
    "## Defined my own reducer with the operator add function"
   ]
  },
  {
   "cell_type": "code",
   "execution_count": 2,
   "id": "c8b0347d-cbf0-4164-9cf6-39c4e040a313",
   "metadata": {},
   "outputs": [],
   "source": [
    "# Cell 1: Imports and Reducer Definition\n",
    "import operator\n",
    "from typing import Annotated\n",
    "from typing_extensions import TypedDict\n",
    "from langgraph.graph import StateGraph, START, END\n",
    "\n",
    "# State schema with reducer\n",
    "class State(TypedDict):\n",
    "    updates: Annotated[list[str], operator.add]"
   ]
  },
  {
   "cell_type": "code",
   "execution_count": 3,
   "id": "4a62c658",
   "metadata": {},
   "outputs": [],
   "source": [
    "# Cell 2: Node definitions\n",
    "def node_a(state: State):\n",
    "    print(\"-- Node A --\")\n",
    "    return {\"updates\": [\"A\"]}\n",
    "\n",
    "def node_b(state: State):\n",
    "    print(\"-- Node B --\")\n",
    "    return {\"updates\": [\"B\"]}\n",
    "\n",
    "def node_c(state: State):\n",
    "    print(\"-- Node C --\")\n",
    "    return {\"updates\": [\"C\"]}\n",
    "\n",
    "def node_d(state: State):\n",
    "    print(\"-- Node D --\")\n",
    "    return {\"updates\": [\"D\"]}\n",
    "\n"
   ]
  },
  {
   "cell_type": "code",
   "execution_count": 4,
   "id": "4af2a720",
   "metadata": {},
   "outputs": [],
   "source": [
    "# Cell 3: Build the graph\n",
    "builder = StateGraph(State)\n",
    "builder.add_node(\"node_a\", node_a)\n",
    "builder.add_node(\"node_b\", node_b)\n",
    "builder.add_node(\"node_c\", node_c)\n",
    "builder.add_node(\"node_d\", node_d)\n",
    "\n",
    "builder.add_edge(START, \"node_a\")\n",
    "builder.add_edge(\"node_a\", \"node_b\")\n",
    "builder.add_edge(\"node_a\", \"node_c\")\n",
    "builder.add_edge(\"node_b\", \"node_d\")\n",
    "builder.add_edge(\"node_c\", \"node_d\")\n",
    "builder.add_edge(\"node_d\", END)\n",
    "\n",
    "graph = builder.compile()\n",
    "\n"
   ]
  },
  {
   "cell_type": "code",
   "execution_count": 5,
   "id": "f4456d66",
   "metadata": {},
   "outputs": [
    {
     "name": "stdout",
     "output_type": "stream",
     "text": [
      "-- Node A --\n",
      "-- Node B --\n",
      "-- Node C --\n",
      "-- Node D --\n",
      "Final state: {'updates': ['A', 'B', 'C', 'D']}\n"
     ]
    }
   ],
   "source": [
    "# Cell 4: Run the graph\n",
    "initial_state = {\"updates\": []}\n",
    "result = graph.invoke(initial_state)\n",
    "print(\"Final state:\", result)\n",
    "\n"
   ]
  },
  {
   "cell_type": "code",
   "execution_count": 6,
   "id": "e490a45a",
   "metadata": {},
   "outputs": [
    {
     "data": {
      "image/png": "[encoded data removed]",
      "text/plain": [
       "<IPython.core.display.Image object>"
      ]
     },
     "metadata": {},
     "output_type": "display_data"
    }
   ],
   "source": [
    "# Cell 5: Visualize (Mermaid)\n",
    "mermaid_code = graph.get_graph().draw_mermaid()\n",
    "#print(mermaid_code)\n",
    "display(Image(graph.get_graph().draw_mermaid_png()))"
   ]
  },
  {
   "cell_type": "markdown",
   "id": "c19bf0c9",
   "metadata": {},
   "source": [
    "## Defined my own custom reducer, which keeps only the largest number"
   ]
  },
  {
   "cell_type": "code",
   "execution_count": 7,
   "id": "954429ad",
   "metadata": {},
   "outputs": [],
   "source": [
    "# Cell 1: Custom reducer that keeps only the largest number\n",
    "\n",
    "def max_value_reducer(left: list[int] | None, right: list[int] | None) -> list[int]:\n",
    "    \"\"\"\n",
    "    Combine two lists, but only keep the largest value seen so far.\n",
    "    \"\"\"\n",
    "    all_vals = []\n",
    "    if left:\n",
    "        all_vals += left\n",
    "    if right:\n",
    "        all_vals += right\n",
    "    if not all_vals:\n",
    "        return []\n",
    "    return [max(all_vals)]  # Only keep max value\n",
    "# State schema using custom reducer\n",
    "from typing import Annotated\n",
    "from typing_extensions import TypedDict\n",
    "\n",
    "class MaxValueState(TypedDict):\n",
    "    foo: Annotated[list[int], max_value_reducer]\n",
    "\n",
    "\n",
    "\n"
   ]
  },
  {
   "cell_type": "code",
   "execution_count": 8,
   "id": "3d1df7b3",
   "metadata": {},
   "outputs": [],
   "source": [
    "\n",
    "# Cell 2: Nodes for demo graph\n",
    "def node_1(state: MaxValueState):\n",
    "    print(\"-- Node 1 --\")\n",
    "    return {\"foo\": [13]}\n",
    "def node_2(state: MaxValueState):\n",
    "    print(\"-- Node 2 --\")\n",
    "    return {\"foo\": [7]}\n",
    "def node_3(state: MaxValueState):\n",
    "    print(\"-- Node 3 --\")\n",
    "    return {\"foo\": [5]}\n",
    "def node_4(state: MaxValueState):\n",
    "    print(\"-- Node 4 --\")\n",
    "    return {\"foo\": [3]}\n",
    "\n"
   ]
  },
  {
   "cell_type": "code",
   "execution_count": 9,
   "id": "d62fba3c",
   "metadata": {},
   "outputs": [],
   "source": [
    "# Cell 3: Build the graph\n",
    "from langgraph.graph import StateGraph, START, END\n",
    "\n",
    "builder = StateGraph(MaxValueState)\n",
    "builder.add_node(\"node_1\", node_1)\n",
    "builder.add_node(\"node_2\", node_2)\n",
    "builder.add_node(\"node_3\", node_3)\n",
    "builder.add_node(\"node_4\", node_4)\n",
    "\n",
    "builder.add_edge(START, \"node_1\")\n",
    "builder.add_edge(\"node_1\", \"node_2\")\n",
    "builder.add_edge(\"node_1\", \"node_3\")\n",
    "builder.add_edge(\"node_2\", \"node_4\")\n",
    "builder.add_edge(\"node_3\", \"node_4\")\n",
    "builder.add_edge(\"node_4\", END)\n",
    "\n",
    "graph = builder.compile()\n",
    "\n"
   ]
  },
  {
   "cell_type": "markdown",
   "id": "df04c83c",
   "metadata": {},
   "source": [
    "## Ran the graph"
   ]
  },
  {
   "cell_type": "code",
   "execution_count": 10,
   "id": "66037f31",
   "metadata": {},
   "outputs": [
    {
     "name": "stdout",
     "output_type": "stream",
     "text": [
      "-- Node 1 --\n",
      "-- Node 2 --\n",
      "-- Node 3 --\n",
      "-- Node 4 --\n",
      "Final reducer state: {'foo': [13]}\n"
     ]
    }
   ],
   "source": [
    "# Cell 4: Run the graph\n",
    "init_state = {\"foo\": []}\n",
    "result = graph.invoke(init_state)\n",
    "print(\"Final reducer state:\", result)\n"
   ]
  },
  {
   "cell_type": "code",
   "execution_count": 11,
   "id": "1d3046bd",
   "metadata": {},
   "outputs": [
    {
     "data": {
      "image/png": "[encoded data removed]",
      "text/plain": [
       "<IPython.core.display.Image object>"
      ]
     },
     "metadata": {},
     "output_type": "display_data"
    }
   ],
   "source": [
    "# Cell 5: Visualize (Mermaid)\n",
    "mermaid_code = graph.get_graph().draw_mermaid()\n",
    "#print(mermaid_code)\n",
    "display(Image(graph.get_graph().draw_mermaid_png()))"
   ]
  },
  {
   "cell_type": "markdown",
   "id": "be3753a2",
   "metadata": {},
   "source": [
    "## Ran some more testcases on the custom reducer "
   ]
  },
  {
   "cell_type": "markdown",
   "id": "e7ddcd06",
   "metadata": {},
   "source": [
    "### testcase 1 "
   ]
  },
  {
   "cell_type": "code",
   "execution_count": 12,
   "id": "7d78c603",
   "metadata": {},
   "outputs": [
    {
     "name": "stdout",
     "output_type": "stream",
     "text": [
      "Testcase 1 initial state: {'foo': []}\n",
      "-- Node 1 --\n",
      "-- Node 2 --\n",
      "-- Node 3 --\n",
      "-- Node 4 --\n",
      "Testcase 1 final state: {'foo': [13]}\n"
     ]
    }
   ],
   "source": [
    "# Testcase 1 - Start with empty list\n",
    "testcase1 = {\"foo\": []}\n",
    "print(\"Testcase 1 initial state:\", testcase1)\n",
    "result1 = graph.invoke(testcase1)\n",
    "print(\"Testcase 1 final state:\", result1)\n",
    "# Output should be {'foo': [13]}\n"
   ]
  },
  {
   "cell_type": "markdown",
   "id": "15388dfd",
   "metadata": {},
   "source": [
    "### testcase 2"
   ]
  },
  {
   "cell_type": "code",
   "execution_count": 13,
   "id": "586eac84",
   "metadata": {},
   "outputs": [
    {
     "name": "stdout",
     "output_type": "stream",
     "text": [
      "Testcase 2 initial state: {'foo': [17]}\n",
      "-- Node 1 --\n",
      "-- Node 2 --\n",
      "-- Node 3 --\n",
      "-- Node 4 --\n",
      "Testcase 2 final state: {'foo': [17]}\n"
     ]
    }
   ],
   "source": [
    "# Testcase 2 - Start with pre-set higher value\n",
    "testcase2 = {\"foo\": [17]}\n",
    "print(\"Testcase 2 initial state:\", testcase2)\n",
    "result2 = graph.invoke(testcase2)\n",
    "print(\"Testcase 2 final state:\", result2)\n",
    "# Output should be {'foo': [17]}\n"
   ]
  },
  {
   "cell_type": "markdown",
   "id": "c6889936",
   "metadata": {},
   "source": [
    "## Tried the in-built message reducer with different examples of my own "
   ]
  },
  {
   "cell_type": "code",
   "execution_count": 14,
   "id": "fbcf4ab6",
   "metadata": {},
   "outputs": [],
   "source": [
    "import pprint"
   ]
  },
  {
   "cell_type": "code",
   "execution_count": 15,
   "id": "62c06eeb",
   "metadata": {},
   "outputs": [],
   "source": [
    "# Imports for message reducer examples\n",
    "from langgraph.graph import MessagesState\n",
    "from langchain_core.messages import AIMessage, HumanMessage\n",
    "from langgraph.graph import add_messages\n"
   ]
  },
  {
   "cell_type": "markdown",
   "id": "16231cd4",
   "metadata": {},
   "source": [
    "### Appending new messages"
   ]
  },
  {
   "cell_type": "code",
   "execution_count": 16,
   "id": "d8889cbb",
   "metadata": {},
   "outputs": [
    {
     "name": "stdout",
     "output_type": "stream",
     "text": [
      "[AIMessage(content='Welcome, how can I assist?', additional_kwargs={}, response_metadata={}, name='Bot', id='1'),\n",
      " HumanMessage(content=\"What's the weather today?\", additional_kwargs={}, response_metadata={}, name='User', id='2'),\n",
      " AIMessage(content=\"Today's weather: sunny!\", additional_kwargs={}, response_metadata={}, name='Bot', id='3')]\n"
     ]
    }
   ],
   "source": [
    "\n",
    "#  Append new messages (basic accumulation)\n",
    "messages1 = [\n",
    "    AIMessage(content=\"Welcome, how can I assist?\", name=\"Bot\", id=\"1\"),\n",
    "    HumanMessage(content=\"What's the weather today?\", name=\"User\", id=\"2\")\n",
    "]\n",
    "new_message1 = AIMessage(content=\"Today's weather: sunny!\", name=\"Bot\", id=\"3\")\n",
    "result1 = add_messages(messages1, new_message1)\n",
    "#print(\"Messages after append:\", result1)\n",
    "# Use pprint for all your message reducer results\n",
    "#pretty_print(result1)\n",
    "pprint.pprint(result1)\n"
   ]
  },
  {
   "cell_type": "markdown",
   "id": "fbfcda9c",
   "metadata": {},
   "source": [
    "### Overwriting a message with the same ID"
   ]
  },
  {
   "cell_type": "code",
   "execution_count": 17,
   "id": "76673a7c",
   "metadata": {},
   "outputs": [
    {
     "name": "stdout",
     "output_type": "stream",
     "text": [
      "[HumanMessage(content=\"Actually, give me tomorrow's weather.\", additional_kwargs={}, response_metadata={}, name='User', id='2')]\n"
     ]
    }
   ],
   "source": [
    "#  Overwrite a message with same ID\n",
    "messages2 = [\n",
    "    HumanMessage(content=\"What's the weather today?\", name=\"User\", id=\"2\")\n",
    "]\n",
    "overwrite_message = HumanMessage(content=\"Actually, give me tomorrow's weather.\", name=\"User\", id=\"2\")\n",
    "result2 = add_messages(messages2, overwrite_message)\n",
    "#print(\"Messages after overwrite:\", result2)\n",
    "pprint.pprint(result2)"
   ]
  },
  {
   "cell_type": "markdown",
   "id": "783040ae",
   "metadata": {},
   "source": [
    "### Removing a message using RemoveMessage"
   ]
  },
  {
   "cell_type": "code",
   "execution_count": 18,
   "id": "f5181f9f",
   "metadata": {},
   "outputs": [
    {
     "name": "stdout",
     "output_type": "stream",
     "text": [
      "[AIMessage(content='Welcome!', additional_kwargs={}, response_metadata={}, name='Bot', id='1'),\n",
      " AIMessage(content='How can I help you?', additional_kwargs={}, response_metadata={}, name='Bot', id='3')]\n"
     ]
    }
   ],
   "source": [
    "#  Removing a message using RemoveMessage\n",
    "from langchain_core.messages import RemoveMessage\n",
    "\n",
    "messages3 = [\n",
    "    AIMessage(content=\"Welcome!\", name=\"Bot\", id=\"1\"),\n",
    "    HumanMessage(content=\"Hi!\", name=\"User\", id=\"2\"),\n",
    "    AIMessage(content=\"How can I help you?\", name=\"Bot\", id=\"3\"),\n",
    "]\n",
    "remove_msg = RemoveMessage(content=\"\", id=\"2\")  # Remove by ID\n",
    "result3 = add_messages(messages3, remove_msg)\n",
    "#print(\"Messages after removal:\", result3)\n",
    "pprint.pprint(result3)\n"
   ]
  }
 ],
 "metadata": {
  "kernelspec": {
   "display_name": ".venv",
   "language": "python",
   "name": "python3"
  },
  "language_info": {
   "codemirror_mode": {
    "name": "ipython",
    "version": 3
   },
   "file_extension": ".py",
   "mimetype": "text/x-python",
   "name": "python",
   "nbconvert_exporter": "python",
   "pygments_lexer": "ipython3",
   "version": "3.13.2"
  }
 },
 "nbformat": 4,
 "nbformat_minor": 5
}
