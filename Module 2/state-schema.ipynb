{
 "cells": [
  {
   "cell_type": "code",
   "execution_count": 14,
   "id": "b9a896f4-8509-456a-9a25-46532342f459",
   "metadata": {},
   "outputs": [],
   "source": [
    "%%capture --no-stderr\n",
    "%pip install --quiet -U langgraph"
   ]
  },
  {
   "cell_type": "code",
   "execution_count": 15,
   "id": "eedb39f0-af0f-4794-bc16-65980d278b59",
   "metadata": {},
   "outputs": [],
   "source": [
    "from typing_extensions import TypedDict\n",
    "\n",
    "class TypedDictState(TypedDict):\n",
    "    foo: str\n",
    "    bar: str"
   ]
  },
  {
   "cell_type": "code",
   "execution_count": 16,
   "id": "eb9b5f72",
   "metadata": {},
   "outputs": [],
   "source": [
    "from IPython.display import Image, display"
   ]
  },
  {
   "cell_type": "markdown",
   "id": "5482176d",
   "metadata": {},
   "source": [
    "# MY EXAMPLE : "
   ]
  },
  {
   "cell_type": "markdown",
   "id": "bf55f54d",
   "metadata": {},
   "source": [
    "## Made a basic Graph using Pydantic schema : "
   ]
  },
  {
   "cell_type": "code",
   "execution_count": 17,
   "id": "104d0d12",
   "metadata": {},
   "outputs": [
    {
     "name": "stderr",
     "output_type": "stream",
     "text": [
      "/var/folders/g3/fm8vfsn162gbr3lvkzdfc_180000gn/T/ipykernel_19122/2214814510.py:10: PydanticDeprecatedSince20: Pydantic V1 style `@validator` validators are deprecated. You should migrate to Pydantic V2 style `@field_validator` validators, see the migration guide for more details. Deprecated in Pydantic V2.0 to be removed in V3.0. See Pydantic V2 Migration Guide at https://errors.pydantic.dev/2.12/migration/\n",
      "  @validator('drink_choice')\n"
     ]
    }
   ],
   "source": [
    "# Cell 1: Imports and Pydantic State Definition\n",
    "from langgraph.graph import StateGraph\n",
    "from pydantic import BaseModel, validator\n",
    "from typing import Literal\n",
    "\n",
    "class DrinkState(BaseModel):\n",
    "    name: str\n",
    "    drink_choice: Literal[\"decide\", \"coffee\", \"tea\"]\n",
    "    \n",
    "    @validator('drink_choice')\n",
    "    def validate_choice(cls, v):\n",
    "        if v not in (\"decide\", \"coffee\", \"tea\"):\n",
    "            raise ValueError(\"drink_choice must be 'decide', 'coffee', or 'tea'\")\n",
    "        return v\n"
   ]
  },
  {
   "cell_type": "code",
   "execution_count": 18,
   "id": "20743a3f",
   "metadata": {},
   "outputs": [],
   "source": [
    "# Cell 2: Build the Graph\n",
    "builder = StateGraph(DrinkState)\n",
    "\n",
    "builder.add_node(\"decide\", lambda s: print(f\"Morning routine: {s.name}, choose coffee or tea.\"))\n",
    "builder.add_node(\"coffee\", lambda s: print(f\"{s.name}, enjoy your coffee!\"))\n",
    "builder.add_node(\"tea\", lambda s: print(f\"{s.name}, enjoy your tea!\"))\n",
    "\n",
    "# Add conditional edges based on drink_choice\n",
    "builder.add_conditional_edges(\"decide\", \n",
    "    lambda s: \"coffee\" if s.drink_choice == \"coffee\" else \"tea\",\n",
    "    [\"coffee\", \"tea\"])\n",
    "\n",
    "builder.set_entry_point(\"decide\")\n",
    "graph = builder.compile()\n"
   ]
  },
  {
   "cell_type": "code",
   "execution_count": 19,
   "id": "b57cc2b8",
   "metadata": {},
   "outputs": [
    {
     "name": "stdout",
     "output_type": "stream",
     "text": [
      "Morning routine: Sam, choose coffee or tea.\n",
      "Sam, enjoy your coffee!\n",
      "{'name': 'Sam', 'drink_choice': 'coffee'}\n"
     ]
    }
   ],
   "source": [
    "# Cell 3: Run the Graph with Example State\n",
    "example_state = DrinkState(name=\"Sam\", drink_choice=\"coffee\")\n",
    "result = graph.invoke(example_state)  # <-- Use invoke(), not call directly!\n",
    "print(result)\n"
   ]
  },
  {
   "cell_type": "code",
   "execution_count": 20,
   "id": "16102b47",
   "metadata": {},
   "outputs": [
    {
     "data": {
      "image/png": "[encoded data removed]",
      "text/plain": [
       "<IPython.core.display.Image object>"
      ]
     },
     "metadata": {},
     "output_type": "display_data"
    }
   ],
   "source": [
    "# Cell 4: Visualize the Graph (Mermaid output)\n",
    "mermaid_code = graph.get_graph().draw_mermaid()\n",
    "display(Image(graph.get_graph().draw_mermaid_png()))\n"
   ]
  },
  {
   "cell_type": "markdown",
   "id": "baf80843",
   "metadata": {},
   "source": [
    "## Testing valid and inputs (with Pydantic)"
   ]
  },
  {
   "cell_type": "markdown",
   "id": "9c1f6817",
   "metadata": {},
   "source": [
    "### PyDantic with valid input"
   ]
  },
  {
   "cell_type": "code",
   "execution_count": 21,
   "id": "c5317ac2",
   "metadata": {},
   "outputs": [],
   "source": [
    "valid_state = DrinkState(name=\"Sam\", drink_choice=\"coffee\")  # No error"
   ]
  },
  {
   "cell_type": "markdown",
   "id": "61c12469",
   "metadata": {},
   "source": [
    "### PyDantic with Invalid input ( ERROR EXPECTED )"
   ]
  },
  {
   "cell_type": "code",
   "execution_count": 22,
   "id": "ef1bc929",
   "metadata": {},
   "outputs": [
    {
     "name": "stdout",
     "output_type": "stream",
     "text": [
      "Pydantic invalid input error: 1 validation error for DrinkState\n",
      "drink_choice\n",
      "  Input should be 'decide', 'coffee' or 'tea' [type=literal_error, input_value='juice', input_type=str]\n",
      "    For further information visit https://errors.pydantic.dev/2.12/v/literal_error\n"
     ]
    }
   ],
   "source": [
    "try:\n",
    "    invalid_state = DrinkState(name=\"Sam\", drink_choice=\"juice\")\n",
    "    result_invalid = graph_pydantic.invoke(invalid_state)\n",
    "except Exception as e:\n",
    "    print(\"Pydantic invalid input error:\", e)"
   ]
  },
  {
   "cell_type": "markdown",
   "id": "900dbfd8",
   "metadata": {},
   "source": [
    "## Testing valid and inputs (with TypeDict)"
   ]
  },
  {
   "cell_type": "markdown",
   "id": "0e1d315d",
   "metadata": {},
   "source": [
    "### TypeDict schema and graph setup"
   ]
  },
  {
   "cell_type": "code",
   "execution_count": 23,
   "id": "e332e32f",
   "metadata": {},
   "outputs": [
    {
     "data": {
      "image/png": "[encoded data removed]",
      "text/plain": [
       "<IPython.core.display.Image object>"
      ]
     },
     "metadata": {},
     "output_type": "display_data"
    }
   ],
   "source": [
    "\n",
    "from typing import TypedDict\n",
    "\n",
    "class DrinkStateDict(TypedDict):\n",
    "    name: str\n",
    "    drink_choice: str\n",
    "\n",
    "builder2 = StateGraph(DrinkStateDict)\n",
    "\n",
    "builder2.add_node(\"decide\", lambda s: print(f\"Morning routine: {s['name']}, choose coffee or tea.\"))\n",
    "builder2.add_node(\"coffee\", lambda s: print(f\"{s['name']}, enjoy your coffee!\"))\n",
    "builder2.add_node(\"tea\", lambda s: print(f\"{s['name']}, enjoy your tea!\"))\n",
    "\n",
    "builder2.add_conditional_edges(\"decide\", \n",
    "    lambda s: \"coffee\" if s[\"drink_choice\"] == \"coffee\" else \"tea\",\n",
    "    [\"coffee\", \"tea\"])\n",
    "\n",
    "builder2.set_entry_point(\"decide\")\n",
    "graph_typeddict = builder2.compile()\n",
    "\n",
    "mermaid_code = graph_typeddict.get_graph().draw_mermaid()\n",
    "display(Image(graph_typeddict.get_graph().draw_mermaid_png()))\n"
   ]
  },
  {
   "cell_type": "markdown",
   "id": "4d48a661",
   "metadata": {},
   "source": [
    "### Testing with inputs ( no error for either of the inputs, it even accepted the invalid input)"
   ]
  },
  {
   "cell_type": "code",
   "execution_count": 24,
   "id": "7ca2522b",
   "metadata": {},
   "outputs": [
    {
     "name": "stdout",
     "output_type": "stream",
     "text": [
      "Morning routine: Sam, choose coffee or tea.\n",
      "Sam, enjoy your coffee!\n",
      "TypedDict valid result: {'name': 'Sam', 'drink_choice': 'coffee'}\n",
      "Morning routine: Sam, choose coffee or tea.\n",
      "Sam, enjoy your tea!\n",
      "TypedDict invalid accepted (no error): {'name': 'Sam', 'drink_choice': 'juice'}\n"
     ]
    }
   ],
   "source": [
    "\n",
    "valid_dict = {\"name\": \"Sam\", \"drink_choice\": \"coffee\"}\n",
    "result_dict_valid = graph_typeddict.invoke(valid_dict)\n",
    "print(\"TypedDict valid result:\", result_dict_valid)\n",
    "\n",
    "invalid_dict = {\"name\": \"Sam\", \"drink_choice\": \"juice\"}\n",
    "result_dict_invalid = graph_typeddict.invoke(invalid_dict)  # No error without manual validation\n",
    "print(\"TypedDict invalid accepted (no error):\", result_dict_invalid)\n"
   ]
  },
  {
   "cell_type": "markdown",
   "id": "e86d5ac2",
   "metadata": {},
   "source": [
    "## Testing valid and inputs (with Dataclass)"
   ]
  },
  {
   "cell_type": "markdown",
   "id": "27d2bfcd",
   "metadata": {},
   "source": [
    "### Dataclass schema and graph setup"
   ]
  },
  {
   "cell_type": "code",
   "execution_count": 25,
   "id": "cc63c301",
   "metadata": {},
   "outputs": [
    {
     "data": {
      "image/png": "[encoded data removed]",
      "text/plain": [
       "<IPython.core.display.Image object>"
      ]
     },
     "metadata": {},
     "output_type": "display_data"
    }
   ],
   "source": [
    "\n",
    "from dataclasses import dataclass\n",
    "\n",
    "@dataclass\n",
    "class DrinkStateData:\n",
    "    name: str\n",
    "    drink_choice: str\n",
    "\n",
    "builder3 = StateGraph(DrinkStateData)\n",
    "\n",
    "builder3.add_node(\"decide\", lambda s: print(f\"Morning routine: {s.name}, choose coffee or tea.\"))\n",
    "builder3.add_node(\"coffee\", lambda s: print(f\"{s.name}, enjoy your coffee!\"))\n",
    "builder3.add_node(\"tea\", lambda s: print(f\"{s.name}, enjoy your tea!\"))\n",
    "\n",
    "builder3.add_conditional_edges(\"decide\", \n",
    "    lambda s: \"coffee\" if s.drink_choice == \"coffee\" else \"tea\",\n",
    "    [\"coffee\", \"tea\"])\n",
    "\n",
    "builder3.set_entry_point(\"decide\")\n",
    "graph_dataclass = builder3.compile()\n",
    "mermaid_code = graph_dataclass.get_graph().draw_mermaid()\n",
    "display(Image(graph_dataclass.get_graph().draw_mermaid_png()))\n"
   ]
  },
  {
   "cell_type": "markdown",
   "id": "233befca",
   "metadata": {},
   "source": [
    "### Testing with inputs ( no error for either of the inputs, it even accepted the invalid input)"
   ]
  },
  {
   "cell_type": "code",
   "execution_count": 26,
   "id": "462f8533",
   "metadata": {},
   "outputs": [
    {
     "name": "stdout",
     "output_type": "stream",
     "text": [
      "Morning routine: Sam, choose coffee or tea.\n",
      "Sam, enjoy your tea!\n",
      "Dataclass valid result: {'name': 'Sam', 'drink_choice': 'tea'}\n",
      "Morning routine: Sam, choose coffee or tea.\n",
      "Sam, enjoy your tea!\n",
      "Dataclass invalid accepted (no error): {'name': 'Sam', 'drink_choice': 'juice'}\n"
     ]
    }
   ],
   "source": [
    "\n",
    "valid_dc = DrinkStateData(name=\"Sam\", drink_choice=\"tea\")\n",
    "result_dc_valid = graph_dataclass.invoke(valid_dc)\n",
    "print(\"Dataclass valid result:\", result_dc_valid)\n",
    "\n",
    "invalid_dc = DrinkStateData(name=\"Sam\", drink_choice=\"juice\")\n",
    "result_dc_invalid = graph_dataclass.invoke(invalid_dc)  # No error without manual validation\n",
    "print(\"Dataclass invalid accepted (no error):\", result_dc_invalid)\n"
   ]
  }
 ],
 "metadata": {
  "kernelspec": {
   "display_name": ".venv",
   "language": "python",
   "name": "python3"
  },
  "language_info": {
   "codemirror_mode": {
    "name": "ipython",
    "version": 3
   },
   "file_extension": ".py",
   "mimetype": "text/x-python",
   "name": "python",
   "nbconvert_exporter": "python",
   "pygments_lexer": "ipython3",
   "version": "3.13.2"
  }
 },
 "nbformat": 4,
 "nbformat_minor": 5
}
